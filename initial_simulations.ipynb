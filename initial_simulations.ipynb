{
 "cells": [
  {
   "cell_type": "code",
   "execution_count": 46,
   "metadata": {},
   "outputs": [],
   "source": [
    "import numpy as np\n",
    "from sklearn.linear_model import Lasso\n",
    "from sklearn.model_selection import train_test_split\n",
    "from sklearn.metrics import mean_squared_error"
   ]
  },
  {
   "cell_type": "code",
   "execution_count": 47,
   "metadata": {},
   "outputs": [],
   "source": [
    "A_size = (300, 500)\n",
    "A_probability = 0.5\n",
    "A = np.random.binomial(1, A_probability, A_size)"
   ]
  },
  {
   "cell_type": "code",
   "execution_count": 48,
   "metadata": {},
   "outputs": [],
   "source": [
    "x_size = 500\n",
    "prob_non_zero = 0.05\n",
    "x_true = np.zeros(x_size)\n",
    "num_non_zero = int(prob_non_zero * x_size)\n",
    "non_zero_indices = np.random.choice(x_size, num_non_zero, replace=False)\n",
    "x_true[non_zero_indices] = np.random.uniform(1, 1000, num_non_zero)"
   ]
  },
  {
   "cell_type": "code",
   "execution_count": 49,
   "metadata": {},
   "outputs": [],
   "source": [
    "q = 1\n",
    "y_size = 300\n",
    "z_mean = 0\n",
    "z_stddev = 1\n",
    "z_size = y_size\n",
    "z = np.random.normal(z_mean, z_stddev, z_size)\n",
    "y = [np.dot(A[i], x_true)*(1+q)**(z[i]) for i in range(y_size)]\n",
    "y = np.array(y)\n",
    "y_tilda = y/(1+q)**(z_stddev**2/2)"
   ]
  },
  {
   "cell_type": "code",
   "execution_count": 50,
   "metadata": {},
   "outputs": [
    {
     "name": "stderr",
     "output_type": "stream",
     "text": [
      "/Library/Frameworks/Python.framework/Versions/3.12/lib/python3.12/site-packages/sklearn/linear_model/_coordinate_descent.py:678: ConvergenceWarning: Objective did not converge. You might want to increase the number of iterations, check the scale of the features or consider increasing regularisation. Duality gap: 2.602e+06, tolerance: 6.287e+05\n",
      "  model = cd_fast.enet_coordinate_descent(\n"
     ]
    }
   ],
   "source": [
    "lasso = Lasso()\n",
    "lasso.fit(A, y_tilda)\n",
    "x = lasso.coef_"
   ]
  },
  {
   "cell_type": "code",
   "execution_count": 51,
   "metadata": {},
   "outputs": [
    {
     "name": "stdout",
     "output_type": "stream",
     "text": [
      "109.07275868301757\n"
     ]
    }
   ],
   "source": [
    "mse = mean_squared_error(x, x_true)/np.linalg.norm(x_true)\n",
    "print(mse)"
   ]
  },
  {
   "cell_type": "code",
   "execution_count": null,
   "metadata": {},
   "outputs": [],
   "source": []
  }
 ],
 "metadata": {
  "kernelspec": {
   "display_name": "Python 3",
   "language": "python",
   "name": "python3"
  },
  "language_info": {
   "codemirror_mode": {
    "name": "ipython",
    "version": 3
   },
   "file_extension": ".py",
   "mimetype": "text/x-python",
   "name": "python",
   "nbconvert_exporter": "python",
   "pygments_lexer": "ipython3",
   "version": "3.12.2"
  }
 },
 "nbformat": 4,
 "nbformat_minor": 2
}
